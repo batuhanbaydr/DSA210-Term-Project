{
  "nbformat": 4,
  "nbformat_minor": 0,
  "metadata": {
    "colab": {
      "provenance": []
    },
    "kernelspec": {
      "name": "python3",
      "display_name": "Python 3"
    },
    "language_info": {
      "name": "python"
    }
  },
  "cells": [
    {
      "cell_type": "code",
      "source": [
        "import pandas as pd\n",
        "from scipy.stats import chi2_contingency\n",
        "\n",
        "FILE = \"data/processed/oscars_plus_bechdel_pol.parquet\"\n",
        "df = pd.read_parquet(FILE)"
      ],
      "metadata": {
        "id": "KZZ7IvVBSpma",
        "outputId": "ffc0c245-373e-469a-808e-c533e4837ad9",
        "colab": {
          "base_uri": "https://localhost:8080/",
          "height": 316
        }
      },
      "execution_count": 1,
      "outputs": [
        {
          "output_type": "error",
          "ename": "FileNotFoundError",
          "evalue": "[Errno 2] No such file or directory: 'data/processed/oscars_plus_bechdel_pol.parquet'",
          "traceback": [
            "\u001b[0;31m---------------------------------------------------------------------------\u001b[0m",
            "\u001b[0;31mFileNotFoundError\u001b[0m                         Traceback (most recent call last)",
            "\u001b[0;32m<ipython-input-1-cc51db54af21>\u001b[0m in \u001b[0;36m<cell line: 0>\u001b[0;34m()\u001b[0m\n\u001b[1;32m      3\u001b[0m \u001b[0;34m\u001b[0m\u001b[0m\n\u001b[1;32m      4\u001b[0m \u001b[0mFILE\u001b[0m \u001b[0;34m=\u001b[0m \u001b[0;34m\"data/processed/oscars_plus_bechdel_pol.parquet\"\u001b[0m\u001b[0;34m\u001b[0m\u001b[0;34m\u001b[0m\u001b[0m\n\u001b[0;32m----> 5\u001b[0;31m \u001b[0mdf\u001b[0m \u001b[0;34m=\u001b[0m \u001b[0mpd\u001b[0m\u001b[0;34m.\u001b[0m\u001b[0mread_parquet\u001b[0m\u001b[0;34m(\u001b[0m\u001b[0mFILE\u001b[0m\u001b[0;34m)\u001b[0m\u001b[0;34m\u001b[0m\u001b[0;34m\u001b[0m\u001b[0m\n\u001b[0m",
            "\u001b[0;32m/usr/local/lib/python3.11/dist-packages/pandas/io/parquet.py\u001b[0m in \u001b[0;36mread_parquet\u001b[0;34m(path, engine, columns, storage_options, use_nullable_dtypes, dtype_backend, filesystem, filters, **kwargs)\u001b[0m\n\u001b[1;32m    665\u001b[0m     \u001b[0mcheck_dtype_backend\u001b[0m\u001b[0;34m(\u001b[0m\u001b[0mdtype_backend\u001b[0m\u001b[0;34m)\u001b[0m\u001b[0;34m\u001b[0m\u001b[0;34m\u001b[0m\u001b[0m\n\u001b[1;32m    666\u001b[0m \u001b[0;34m\u001b[0m\u001b[0m\n\u001b[0;32m--> 667\u001b[0;31m     return impl.read(\n\u001b[0m\u001b[1;32m    668\u001b[0m         \u001b[0mpath\u001b[0m\u001b[0;34m,\u001b[0m\u001b[0;34m\u001b[0m\u001b[0;34m\u001b[0m\u001b[0m\n\u001b[1;32m    669\u001b[0m         \u001b[0mcolumns\u001b[0m\u001b[0;34m=\u001b[0m\u001b[0mcolumns\u001b[0m\u001b[0;34m,\u001b[0m\u001b[0;34m\u001b[0m\u001b[0;34m\u001b[0m\u001b[0m\n",
            "\u001b[0;32m/usr/local/lib/python3.11/dist-packages/pandas/io/parquet.py\u001b[0m in \u001b[0;36mread\u001b[0;34m(self, path, columns, filters, use_nullable_dtypes, dtype_backend, storage_options, filesystem, **kwargs)\u001b[0m\n\u001b[1;32m    265\u001b[0m             \u001b[0mto_pandas_kwargs\u001b[0m\u001b[0;34m[\u001b[0m\u001b[0;34m\"split_blocks\"\u001b[0m\u001b[0;34m]\u001b[0m \u001b[0;34m=\u001b[0m \u001b[0;32mTrue\u001b[0m  \u001b[0;31m# type: ignore[assignment]\u001b[0m\u001b[0;34m\u001b[0m\u001b[0;34m\u001b[0m\u001b[0m\n\u001b[1;32m    266\u001b[0m \u001b[0;34m\u001b[0m\u001b[0m\n\u001b[0;32m--> 267\u001b[0;31m         path_or_handle, handles, filesystem = _get_path_or_handle(\n\u001b[0m\u001b[1;32m    268\u001b[0m             \u001b[0mpath\u001b[0m\u001b[0;34m,\u001b[0m\u001b[0;34m\u001b[0m\u001b[0;34m\u001b[0m\u001b[0m\n\u001b[1;32m    269\u001b[0m             \u001b[0mfilesystem\u001b[0m\u001b[0;34m,\u001b[0m\u001b[0;34m\u001b[0m\u001b[0;34m\u001b[0m\u001b[0m\n",
            "\u001b[0;32m/usr/local/lib/python3.11/dist-packages/pandas/io/parquet.py\u001b[0m in \u001b[0;36m_get_path_or_handle\u001b[0;34m(path, fs, storage_options, mode, is_dir)\u001b[0m\n\u001b[1;32m    138\u001b[0m         \u001b[0;31m# fsspec resources can also point to directories\u001b[0m\u001b[0;34m\u001b[0m\u001b[0;34m\u001b[0m\u001b[0m\n\u001b[1;32m    139\u001b[0m         \u001b[0;31m# this branch is used for example when reading from non-fsspec URLs\u001b[0m\u001b[0;34m\u001b[0m\u001b[0;34m\u001b[0m\u001b[0m\n\u001b[0;32m--> 140\u001b[0;31m         handles = get_handle(\n\u001b[0m\u001b[1;32m    141\u001b[0m             \u001b[0mpath_or_handle\u001b[0m\u001b[0;34m,\u001b[0m \u001b[0mmode\u001b[0m\u001b[0;34m,\u001b[0m \u001b[0mis_text\u001b[0m\u001b[0;34m=\u001b[0m\u001b[0;32mFalse\u001b[0m\u001b[0;34m,\u001b[0m \u001b[0mstorage_options\u001b[0m\u001b[0;34m=\u001b[0m\u001b[0mstorage_options\u001b[0m\u001b[0;34m\u001b[0m\u001b[0;34m\u001b[0m\u001b[0m\n\u001b[1;32m    142\u001b[0m         )\n",
            "\u001b[0;32m/usr/local/lib/python3.11/dist-packages/pandas/io/common.py\u001b[0m in \u001b[0;36mget_handle\u001b[0;34m(path_or_buf, mode, encoding, compression, memory_map, is_text, errors, storage_options)\u001b[0m\n\u001b[1;32m    880\u001b[0m         \u001b[0;32melse\u001b[0m\u001b[0;34m:\u001b[0m\u001b[0;34m\u001b[0m\u001b[0;34m\u001b[0m\u001b[0m\n\u001b[1;32m    881\u001b[0m             \u001b[0;31m# Binary mode\u001b[0m\u001b[0;34m\u001b[0m\u001b[0;34m\u001b[0m\u001b[0m\n\u001b[0;32m--> 882\u001b[0;31m             \u001b[0mhandle\u001b[0m \u001b[0;34m=\u001b[0m \u001b[0mopen\u001b[0m\u001b[0;34m(\u001b[0m\u001b[0mhandle\u001b[0m\u001b[0;34m,\u001b[0m \u001b[0mioargs\u001b[0m\u001b[0;34m.\u001b[0m\u001b[0mmode\u001b[0m\u001b[0;34m)\u001b[0m\u001b[0;34m\u001b[0m\u001b[0;34m\u001b[0m\u001b[0m\n\u001b[0m\u001b[1;32m    883\u001b[0m         \u001b[0mhandles\u001b[0m\u001b[0;34m.\u001b[0m\u001b[0mappend\u001b[0m\u001b[0;34m(\u001b[0m\u001b[0mhandle\u001b[0m\u001b[0;34m)\u001b[0m\u001b[0;34m\u001b[0m\u001b[0;34m\u001b[0m\u001b[0m\n\u001b[1;32m    884\u001b[0m \u001b[0;34m\u001b[0m\u001b[0m\n",
            "\u001b[0;31mFileNotFoundError\u001b[0m: [Errno 2] No such file or directory: 'data/processed/oscars_plus_bechdel_pol.parquet'"
          ]
        }
      ]
    },
    {
      "cell_type": "markdown",
      "source": [
        "#### Test 1 – Bechdel pass vs Winner  \n",
        "*H₀:* Bechdel outcome and winning are independent.  \n",
        "*H₁:* Bechdel outcome and winning are **not** independent."
      ],
      "metadata": {
        "id": "HV1qxSNVzWl0"
      }
    },
    {
      "cell_type": "code",
      "source": [
        "tbl1 = pd.crosstab(df[\"winner\"], df[\"bechdel_pass\"].fillna(False))\n",
        "chi2, p, _, _ = chi2_contingency(tbl1)\n",
        "print(\"Contingency table:\\n\", tbl1)\n",
        "print(f\"χ² = {chi2:.2f} | p = {p:.4g}\")\n"
      ],
      "metadata": {
        "colab": {
          "base_uri": "https://localhost:8080/"
        },
        "id": "SDhqkSrRS8CD",
        "outputId": "6336c7ce-fc6c-438c-e782-0afe6289d59a"
      },
      "execution_count": null,
      "outputs": [
        {
          "output_type": "stream",
          "name": "stdout",
          "text": [
            "Contingency table:\n",
            " bechdel_pass  False  True \n",
            "winner                    \n",
            "False          6438   1944\n",
            "True           1879    595\n",
            "χ² = 0.74 | p = 0.3907\n"
          ]
        },
        {
          "output_type": "stream",
          "name": "stderr",
          "text": [
            "<ipython-input-17-0a560b7a5e78>:1: FutureWarning: Downcasting object dtype arrays on .fillna, .ffill, .bfill is deprecated and will change in a future version. Call result.infer_objects(copy=False) instead. To opt-in to the future behavior, set `pd.set_option('future.no_silent_downcasting', True)`\n",
            "  tbl1 = pd.crosstab(df[\"winner\"], df[\"bechdel_pass\"].fillna(False))\n"
          ]
        }
      ]
    },
    {
      "cell_type": "markdown",
      "source": [
        "#### Test 2 – Political theme vs Winner  \n",
        "*H₀:* Political theme and winning are independent.  \n",
        "*H₁:* Political theme and winning are **not** independent."
      ],
      "metadata": {
        "id": "m6nFEJ7-zkbJ"
      }
    },
    {
      "cell_type": "code",
      "source": [
        "tbl2 = pd.crosstab(df[\"winner\"], df[\"political_theme\"])\n",
        "chi2, p, _, _ = chi2_contingency(tbl2)\n",
        "print(\"Contingency table:\\n\", tbl2)\n",
        "print(f\"χ² = {chi2:.2f} | p = {p:.4g}\")"
      ],
      "metadata": {
        "colab": {
          "base_uri": "https://localhost:8080/"
        },
        "id": "15BDCPFCS9-Q",
        "outputId": "0e9cba2a-61a3-47dc-f4c6-7c69809d30b5"
      },
      "execution_count": null,
      "outputs": [
        {
          "output_type": "stream",
          "name": "stdout",
          "text": [
            "Contingency table:\n",
            " political_theme  False  True \n",
            "winner                       \n",
            "False             7945    437\n",
            "True              2297    177\n",
            "χ² = 13.12 | p = 0.0002916\n"
          ]
        }
      ]
    },
    {
      "cell_type": "markdown",
      "source": [
        "#### Test 3 – Racial composition shift (Nominees)  \n",
        "*H₀:* Race distribution is the same before and after 2000.  \n",
        "*H₁:* Race distribution differs between periods."
      ],
      "metadata": {
        "id": "X4NjBVQqzm7x"
      }
    },
    {
      "cell_type": "code",
      "source": [
        "df[\"Race_s\"] = df[\"Race\"].fillna(\"Unknown\").str.strip()\n",
        "keep = [\"White\",\"Black\",\"Asian\",\"Hispanic\",\"Unknown\"]\n",
        "df[\"Race_s\"] = df[\"Race_s\"].where(df[\"Race_s\"].isin(keep), \"Other\")\n",
        "\n",
        "pre_nom  = df[df[\"year_ceremony\"] < 2000][\"Race_s\"]\n",
        "post_nom = df[df[\"year_ceremony\"] >= 2000][\"Race_s\"]\n",
        "labels   = [\"pre 2000\"]*len(pre_nom) + [\"2000+\"]*len(post_nom)\n",
        "tbl3     = pd.crosstab(labels, pd.concat([pre_nom, post_nom], ignore_index=True))\n",
        "chi2, p, _, _ = chi2_contingency(tbl3)\n",
        "\n",
        "print(\"Contingency table (Nominees):\\n\", tbl3)\n",
        "print(f\"χ² = {chi2:.2f} | p = {p:.4g}\")"
      ],
      "metadata": {
        "colab": {
          "base_uri": "https://localhost:8080/"
        },
        "id": "X1xsihtvg0Uu",
        "outputId": "f94865d3-6e1c-47c3-9c24-88f14ab5ff5d"
      },
      "execution_count": null,
      "outputs": [
        {
          "output_type": "stream",
          "name": "stdout",
          "text": [
            "Contingency table (Nominees):\n",
            " Race_s    Asian  Black  Hispanic  White\n",
            "row_0                                  \n",
            "2000+       130    107         9   2375\n",
            "pre 2000    108     86        17   8024\n",
            "χ² = 235.16 | p = 1.059e-50\n"
          ]
        }
      ]
    },
    {
      "cell_type": "markdown",
      "source": [
        "#### Test 4 – Racial composition shift (Winners)  \n",
        "*H₀:* Race distribution of winners is the same before and after 2000.  \n",
        "*H₁:* Race distribution differs between periods.\n"
      ],
      "metadata": {
        "id": "Vtsv4jwjzo6s"
      }
    },
    {
      "cell_type": "code",
      "source": [
        "pre_w   = df[(df[\"winner\"]) & (df[\"year_ceremony\"] < 2000)][\"Race_s\"]\n",
        "post_w  = df[(df[\"winner\"]) & (df[\"year_ceremony\"] >= 2000)][\"Race_s\"]\n",
        "labels  = [\"pre 2000\"]*len(pre_w) + [\"2000+\"]*len(post_w)\n",
        "tbl4    = pd.crosstab(labels, pd.concat([pre_w, post_w], ignore_index=True))\n",
        "chi2, p, _, _ = chi2_contingency(tbl4)\n",
        "\n",
        "print(\"Contingency table (Winners):\\n\", tbl4)\n",
        "print(f\"χ² = {chi2:.2f} | p = {p:.4g}\")"
      ],
      "metadata": {
        "colab": {
          "base_uri": "https://localhost:8080/"
        },
        "id": "D6J7hMTKg2Ka",
        "outputId": "d18d23b9-a634-43ea-b500-d47001db7353"
      },
      "execution_count": null,
      "outputs": [
        {
          "output_type": "stream",
          "name": "stdout",
          "text": [
            "Contingency table (Winners):\n",
            " Race_s    Asian  Black  Hispanic  White\n",
            "row_0                                  \n",
            "2000+        31     36         6    515\n",
            "pre 2000     21     17         3   1845\n",
            "χ² = 107.99 | p = 2.971e-23\n"
          ]
        }
      ]
    }
  ]
}