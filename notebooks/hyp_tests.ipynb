{
  "nbformat": 4,
  "nbformat_minor": 0,
  "metadata": {
    "colab": {
      "provenance": []
    },
    "kernelspec": {
      "name": "python3",
      "display_name": "Python 3"
    },
    "language_info": {
      "name": "python"
    }
  },
  "cells": [
    {
      "cell_type": "code",
      "source": [
        "import pathlib, os, subprocess, sys\n",
        "REPO = \"/content/DSA210-Term-Project\"\n",
        "\n",
        "if not pathlib.Path(REPO).exists():\n",
        "    !git clone -q https://github.com/batuhanbaydr/DSA210-Term-Project.git {REPO}\n",
        "\n",
        "%cd {REPO}\n",
        "!pip -q install pandas seaborn matplotlib pyarrow"
      ],
      "metadata": {
        "id": "BX2ctJap0Efw",
        "outputId": "0f3a4b43-0177-4b1c-e048-64a605ba8fc0",
        "colab": {
          "base_uri": "https://localhost:8080/"
        }
      },
      "execution_count": 2,
      "outputs": [
        {
          "output_type": "stream",
          "name": "stdout",
          "text": [
            "/content/DSA210-Term-Project\n"
          ]
        }
      ]
    },
    {
      "cell_type": "code",
      "source": [
        "import pandas as pd\n",
        "from scipy.stats import chi2_contingency\n",
        "\n",
        "FILE = \"data/processed/oscars_plus_bechdel_pol.parquet\"\n",
        "df = pd.read_parquet(FILE)"
      ],
      "metadata": {
        "id": "KZZ7IvVBSpma"
      },
      "execution_count": 3,
      "outputs": []
    },
    {
      "cell_type": "markdown",
      "source": [
        "#### Test 1 – Bechdel pass vs Winner  \n",
        "*H₀:* Bechdel outcome and winning are independent.  \n",
        "*H₁:* Bechdel outcome and winning are **not** independent."
      ],
      "metadata": {
        "id": "HV1qxSNVzWl0"
      }
    },
    {
      "cell_type": "code",
      "source": [
        "tbl1 = pd.crosstab(df[\"winner\"], df[\"bechdel_pass\"].fillna(False))\n",
        "chi2, p, _, _ = chi2_contingency(tbl1)\n",
        "print(\"Contingency table:\\n\", tbl1)\n",
        "print(f\"χ² = {chi2:.2f} | p = {p:.4g}\")\n"
      ],
      "metadata": {
        "colab": {
          "base_uri": "https://localhost:8080/"
        },
        "id": "SDhqkSrRS8CD",
        "outputId": "a242a0fc-0ef0-4231-ce59-2c31cb573f8d"
      },
      "execution_count": 4,
      "outputs": [
        {
          "output_type": "stream",
          "name": "stderr",
          "text": [
            "<ipython-input-4-0a560b7a5e78>:1: FutureWarning: Downcasting object dtype arrays on .fillna, .ffill, .bfill is deprecated and will change in a future version. Call result.infer_objects(copy=False) instead. To opt-in to the future behavior, set `pd.set_option('future.no_silent_downcasting', True)`\n",
            "  tbl1 = pd.crosstab(df[\"winner\"], df[\"bechdel_pass\"].fillna(False))\n"
          ]
        },
        {
          "output_type": "stream",
          "name": "stdout",
          "text": [
            "Contingency table:\n",
            " bechdel_pass  False  True \n",
            "winner                    \n",
            "False          6438   1944\n",
            "True           1879    595\n",
            "χ² = 0.74 | p = 0.3907\n"
          ]
        }
      ]
    },
    {
      "cell_type": "markdown",
      "source": [
        "#### Test 2 – Political theme vs Winner  \n",
        "*H₀:* Political theme and winning are independent.  \n",
        "*H₁:* Political theme and winning are **not** independent."
      ],
      "metadata": {
        "id": "m6nFEJ7-zkbJ"
      }
    },
    {
      "cell_type": "code",
      "source": [
        "tbl2 = pd.crosstab(df[\"winner\"], df[\"political_theme\"])\n",
        "chi2, p, _, _ = chi2_contingency(tbl2)\n",
        "print(\"Contingency table:\\n\", tbl2)\n",
        "print(f\"χ² = {chi2:.2f} | p = {p:.4g}\")"
      ],
      "metadata": {
        "colab": {
          "base_uri": "https://localhost:8080/"
        },
        "id": "15BDCPFCS9-Q",
        "outputId": "313bcd48-b61c-45a0-fcd0-c92ff0b9c28b"
      },
      "execution_count": 5,
      "outputs": [
        {
          "output_type": "stream",
          "name": "stdout",
          "text": [
            "Contingency table:\n",
            " political_theme  False  True \n",
            "winner                       \n",
            "False             7945    437\n",
            "True              2297    177\n",
            "χ² = 13.12 | p = 0.0002916\n"
          ]
        }
      ]
    },
    {
      "cell_type": "markdown",
      "source": [
        "#### Test 3 – Racial composition shift (Nominees)  \n",
        "*H₀:* Race distribution is the same before and after 2000.  \n",
        "*H₁:* Race distribution differs between periods."
      ],
      "metadata": {
        "id": "X4NjBVQqzm7x"
      }
    },
    {
      "cell_type": "code",
      "source": [
        "df[\"Race_s\"] = df[\"Race\"].fillna(\"Unknown\").str.strip()\n",
        "keep = [\"White\",\"Black\",\"Asian\",\"Hispanic\",\"Unknown\"]\n",
        "df[\"Race_s\"] = df[\"Race_s\"].where(df[\"Race_s\"].isin(keep), \"Other\")\n",
        "\n",
        "pre_nom  = df[df[\"year_ceremony\"] < 2000][\"Race_s\"]\n",
        "post_nom = df[df[\"year_ceremony\"] >= 2000][\"Race_s\"]\n",
        "labels   = [\"pre 2000\"]*len(pre_nom) + [\"2000+\"]*len(post_nom)\n",
        "tbl3     = pd.crosstab(labels, pd.concat([pre_nom, post_nom], ignore_index=True))\n",
        "chi2, p, _, _ = chi2_contingency(tbl3)\n",
        "\n",
        "print(\"Contingency table (Nominees):\\n\", tbl3)\n",
        "print(f\"χ² = {chi2:.2f} | p = {p:.4g}\")"
      ],
      "metadata": {
        "colab": {
          "base_uri": "https://localhost:8080/"
        },
        "id": "X1xsihtvg0Uu",
        "outputId": "5f0cbfd4-8948-4235-eec2-b8b5ce5f8528"
      },
      "execution_count": 6,
      "outputs": [
        {
          "output_type": "stream",
          "name": "stdout",
          "text": [
            "Contingency table (Nominees):\n",
            " Race_s    Asian  Black  Hispanic  White\n",
            "row_0                                  \n",
            "2000+       130    107         9   2375\n",
            "pre 2000    108     86        17   8024\n",
            "χ² = 235.16 | p = 1.059e-50\n"
          ]
        }
      ]
    },
    {
      "cell_type": "markdown",
      "source": [
        "#### Test 4 – Racial composition shift (Winners)  \n",
        "*H₀:* Race distribution of winners is the same before and after 2000.  \n",
        "*H₁:* Race distribution differs between periods.\n"
      ],
      "metadata": {
        "id": "Vtsv4jwjzo6s"
      }
    },
    {
      "cell_type": "code",
      "source": [
        "pre_w   = df[(df[\"winner\"]) & (df[\"year_ceremony\"] < 2000)][\"Race_s\"]\n",
        "post_w  = df[(df[\"winner\"]) & (df[\"year_ceremony\"] >= 2000)][\"Race_s\"]\n",
        "labels  = [\"pre 2000\"]*len(pre_w) + [\"2000+\"]*len(post_w)\n",
        "tbl4    = pd.crosstab(labels, pd.concat([pre_w, post_w], ignore_index=True))\n",
        "chi2, p, _, _ = chi2_contingency(tbl4)\n",
        "\n",
        "print(\"Contingency table (Winners):\\n\", tbl4)\n",
        "print(f\"χ² = {chi2:.2f} | p = {p:.4g}\")"
      ],
      "metadata": {
        "colab": {
          "base_uri": "https://localhost:8080/"
        },
        "id": "D6J7hMTKg2Ka",
        "outputId": "46d1bd17-6504-487d-9a24-50d4d50ab8da"
      },
      "execution_count": 7,
      "outputs": [
        {
          "output_type": "stream",
          "name": "stdout",
          "text": [
            "Contingency table (Winners):\n",
            " Race_s    Asian  Black  Hispanic  White\n",
            "row_0                                  \n",
            "2000+        31     36         6    515\n",
            "pre 2000     21     17         3   1845\n",
            "χ² = 107.99 | p = 2.971e-23\n"
          ]
        }
      ]
    }
  ]
}